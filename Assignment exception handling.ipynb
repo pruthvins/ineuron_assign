{
 "cells": [
  {
   "cell_type": "markdown",
   "metadata": {},
   "source": [
    "Write a function to compute 5/0 and use try/except to catch the exceptions."
   ]
  },
  {
   "cell_type": "code",
   "execution_count": 1,
   "metadata": {},
   "outputs": [
    {
     "name": "stdout",
     "output_type": "stream",
     "text": [
      "Enter the dividend 5\n",
      "Enter the divisor 0\n",
      "Error: A number cannot be divided by Zero\n",
      "the except block is working fine\n"
     ]
    }
   ],
   "source": [
    "try:\n",
    "    a=int(input(\"Enter the dividend \"))\n",
    "    b=int(input(\"Enter the divisor \"))\n",
    "    c=a/b\n",
    "except:\n",
    "    print(\"Error: A number cannot be divided by Zero\")\n",
    "else:\n",
    "    print(c)\n",
    "finally:\n",
    "    print(\"the except block is working fine\")"
   ]
  },
  {
   "cell_type": "markdown",
   "metadata": {},
   "source": [
    "Implement a Python program to generate all sentences where subject is in [\"Americans\", \"Indians\"] and verb is in [\"Play\", \"watch\"] and the object is in [\"Baseball\",\"cricket\"]. Hint: Subject,Verb and Object should be declared in the program as shown below. subjects=[\"Americans \",\"Indians\"] verbs=[\"play\",\"watch\"] objects=[\"Baseball\",\"Cricket\"] Output should come as below: Americans play Baseball. Americans play Cricket. Americans watch Baseball. Americans watch Cricket. Indians play Baseball. Indians play Cricket. Indians watch Baseball."
   ]
  },
  {
   "cell_type": "code",
   "execution_count": 2,
   "metadata": {},
   "outputs": [
    {
     "name": "stdout",
     "output_type": "stream",
     "text": [
      "Americans  play Baseball\n",
      "Americans  play Cricket\n",
      "Americans  watch Baseball\n",
      "Americans  watch Cricket\n",
      "Indians play Baseball\n",
      "Indians play Cricket\n",
      "Indians watch Baseball\n",
      "Indians watch Cricket\n"
     ]
    }
   ],
   "source": [
    "subjects=[\"Americans \",\"Indians\"] \n",
    "verbs=[\"play\",\"watch\"]\n",
    "objects=[\"Baseball\",\"Cricket\"] \n",
    "for a in subjects:\n",
    "    for b in verbs:\n",
    "        for c in objects:\n",
    "            print (a+\" \"+b+\" \"+c)"
   ]
  },
  {
   "cell_type": "code",
   "execution_count": null,
   "metadata": {},
   "outputs": [],
   "source": []
  }
 ],
 "metadata": {
  "kernelspec": {
   "display_name": "Python 3",
   "language": "python",
   "name": "python3"
  },
  "language_info": {
   "codemirror_mode": {
    "name": "ipython",
    "version": 3
   },
   "file_extension": ".py",
   "mimetype": "text/x-python",
   "name": "python",
   "nbconvert_exporter": "python",
   "pygments_lexer": "ipython3",
   "version": "3.7.4"
  }
 },
 "nbformat": 4,
 "nbformat_minor": 2
}
