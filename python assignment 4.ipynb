{
 "cells": [
  {
   "cell_type": "markdown",
   "metadata": {},
   "source": [
    "1.1 Write a Python Program(with class concepts) to find the area of the triangle using the below\n",
    "formula.\n",
    "area = (s*(s-a)*(s-b)*(s-c)) ** 0.5\n",
    "Function to take the length of the sides of triangle from user should be defined in the parent\n",
    "class and function to calculate the area should be defined in subclass."
   ]
  },
  {
   "cell_type": "code",
   "execution_count": 1,
   "metadata": {},
   "outputs": [
    {
     "name": "stdout",
     "output_type": "stream",
     "text": [
      "Enter side 1 : 3\n",
      "Enter side 2 : 4\n",
      "Enter side 3 : 5\n",
      "The area of the triangle is 6.0\n"
     ]
    }
   ],
   "source": [
    "class len_of_Sides:\n",
    "    def __init__(self, no_of_sides):\n",
    "        self.n = no_of_sides\n",
    "        \n",
    "\n",
    "    def inputSides(self):\n",
    "        self.sides = [float(input(\"Enter side \"+str(i+1)+\" : \")) for i in range(self.n)]\n",
    "\n",
    "class Triangle(len_of_Sides):\n",
    "    def __init__(self):\n",
    "        len_of_Sides.__init__(self,3)\n",
    "\n",
    "    def find_the_Area(self):\n",
    "        a, b, c = self.sides\n",
    "        s = (a + b + c) / 2\n",
    "        area = (s*(s-a)*(s-b)*(s-c)) ** 0.5\n",
    "        print('The area of the triangle is %0.1f' %area)\n",
    "        \n",
    "        \n",
    "area=Triangle()\n",
    "area.inputSides()\n",
    "area.find_the_Area()"
   ]
  },
  {
   "cell_type": "markdown",
   "metadata": {},
   "source": [
    "1.2 Write a function filter_long_words() that takes a list of words and an integer n and returns\n",
    "the list of words that are longer than n.\n"
   ]
  },
  {
   "cell_type": "code",
   "execution_count": 3,
   "metadata": {},
   "outputs": [
    {
     "name": "stdout",
     "output_type": "stream",
     "text": [
      "Enter an integer5\n",
      "Enter the list of wordsrama sita pruthvin seltos\n",
      "['pruthvin', 'seltos']\n"
     ]
    },
    {
     "data": {
      "text/plain": [
       "['pruthvin', 'seltos']"
      ]
     },
     "execution_count": 3,
     "metadata": {},
     "output_type": "execute_result"
    }
   ],
   "source": [
    "def filter_long_words():\n",
    "    n = int(input(\"Enter an integer\"))\n",
    "    lis = input(\"Enter the list of words\").split()\n",
    "    list_of_words=[]\n",
    "    for i in range(len(lis)):\n",
    "        if n < len(lis[i]):\n",
    "            list_of_words.append(lis[i])\n",
    "    print(list_of_words)\n",
    "\n",
    "    return list_of_words\n",
    "\n",
    "\n",
    "\n",
    "\n",
    "filter_long_words()"
   ]
  },
  {
   "cell_type": "markdown",
   "metadata": {},
   "source": [
    "2.1 Write a Python program using function concept that maps list of words into a list of integers\n",
    "representing the lengths of the corresponding words.\n",
    "Hint: If a list [ ab,cde,erty] is passed on to the python function output should come as [2,3,4]\n",
    "Here 2,3 and 4 are the lengths of the words in the list."
   ]
  },
  {
   "cell_type": "code",
   "execution_count": 4,
   "metadata": {},
   "outputs": [
    {
     "name": "stdout",
     "output_type": "stream",
     "text": [
      "Enter the list of wordsprutvin seltos car\n",
      "[7, 6, 3]\n"
     ]
    }
   ],
   "source": [
    "def length_long_words():\n",
    "    lis = input(\"Enter the list of words\").split()\n",
    "    length_of_words=[]\n",
    "    for i in range(len(lis)):\n",
    "        length_of_words.append(len(lis[i]))\n",
    "    print(length_of_words)\n",
    "    return None\n",
    "\n",
    "length_long_words()"
   ]
  },
  {
   "cell_type": "markdown",
   "metadata": {},
   "source": [
    "2.2 Write a Python function which takes a character (i.e. a string of length 1) and returns True if\n",
    "it is a vowel, False otherwise"
   ]
  },
  {
   "cell_type": "code",
   "execution_count": 5,
   "metadata": {},
   "outputs": [
    {
     "name": "stdout",
     "output_type": "stream",
     "text": [
      "Enter a character a\n",
      "true\n"
     ]
    }
   ],
   "source": [
    "def check_vowel():\n",
    "    chara = input(\"Enter a character \")\n",
    "    if chara in ['a', 'e', 'i', 'o', 'u']:\n",
    "        print(\"true\")\n",
    "    else:\n",
    "        print(\"False\")\n",
    "    return None\n",
    "\n",
    "\n",
    "check_vowel()"
   ]
  },
  {
   "cell_type": "code",
   "execution_count": null,
   "metadata": {},
   "outputs": [],
   "source": []
  }
 ],
 "metadata": {
  "kernelspec": {
   "display_name": "Python 3",
   "language": "python",
   "name": "python3"
  },
  "language_info": {
   "codemirror_mode": {
    "name": "ipython",
    "version": 3
   },
   "file_extension": ".py",
   "mimetype": "text/x-python",
   "name": "python",
   "nbconvert_exporter": "python",
   "pygments_lexer": "ipython3",
   "version": "3.7.4"
  }
 },
 "nbformat": 4,
 "nbformat_minor": 2
}
