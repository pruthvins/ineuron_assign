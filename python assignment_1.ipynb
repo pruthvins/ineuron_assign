{
 "cells": [
  {
   "cell_type": "markdown",
   "metadata": {},
   "source": [
    "1. Write a program which will find all such numbers which are divisible by 7 but are not a multiple of 5, between 2000 and 3200 (both included). The numbers obtained should be printed\n",
    "in a comma-separated sequence on a single line."
   ]
  },
  {
   "cell_type": "code",
   "execution_count": 1,
   "metadata": {},
   "outputs": [
    {
     "name": "stdout",
     "output_type": "stream",
     "text": [
      "2002,2009,2016,2023,2037,2044,2051,2058,2072,2079,2086,2093,2107,2114,2121,2128,2142,2149,2156,2163,2177,2184,2191,2198,2212,2219,2226,2233,2247,2254,2261,2268,2282,2289,2296,2303,2317,2324,2331,2338,2352,2359,2366,2373,2387,2394,2401,2408,2422,2429,2436,2443,2457,2464,2471,2478,2492,2499,2506,2513,2527,2534,2541,2548,2562,2569,2576,2583,2597,2604,2611,2618,2632,2639,2646,2653,2667,2674,2681,2688,2702,2709,2716,2723,2737,2744,2751,2758,2772,2779,2786,2793,2807,2814,2821,2828,2842,2849,2856,2863,2877,2884,2891,2898,2912,2919,2926,2933,2947,2954,2961,2968,2982,2989,2996,3003,3017,3024,3031,3038,3052,3059,3066,3073,3087,3094,3101,3108,3122,3129,3136,3143,3157,3164,3171,3178,3192,3199\n"
     ]
    }
   ],
   "source": [
    "tup=[]\n",
    "for i in range(2000,3201):\n",
    "    if (i%7==0) and (i%5!=0):\n",
    "        #tup=i\n",
    "        tup.append(str(i))\n",
    "#print(tup)\n",
    "print(','.join(tup))"
   ]
  },
  {
   "cell_type": "markdown",
   "metadata": {},
   "source": [
    "2. Write a Python program to accept the user's first and last name and then getting them printed in the the reverse order with a space between first name and last name."
   ]
  },
  {
   "cell_type": "code",
   "execution_count": 2,
   "metadata": {},
   "outputs": [
    {
     "name": "stdout",
     "output_type": "stream",
     "text": [
      "Enter the first name Pruthvin\n",
      "Enter the last name Shivaprasad\n",
      "nivhturP dasarpavihS\n"
     ]
    }
   ],
   "source": [
    "fn=str(input(\"Enter the first name \"))\n",
    "ln=str(input(\"Enter the last name \"))\n",
    "revf=[]\n",
    "revl=[]\n",
    "#print(fn[k-1])\n",
    "for i in range(1,len(fn)):\n",
    "    k=fn[0]\n",
    "    j=fn[len(fn)-i]\n",
    "    revf.append(str(j))\n",
    "revf.append(str(k))\n",
    "o=''.join(revf)\n",
    "#print(''.join(revf))\n",
    "#print(o)\n",
    "for l in range(1,len(ln)):\n",
    "    m=ln[0]\n",
    "    n=ln[len(ln)-l]\n",
    "    revl.append(str(n))\n",
    "revl.append(str(m))\n",
    "p=''.join(revl)\n",
    "#print(''.join(revl))\n",
    "#print(p)\n",
    "print(o+\" \" + p)"
   ]
  },
  {
   "cell_type": "markdown",
   "metadata": {},
   "source": [
    "3. Write a Python program to find the volume of a sphere with diameter 12 cm. Formula: V=4/3 * π * r\n",
    "3\n",
    "NOTE:"
   ]
  },
  {
   "cell_type": "code",
   "execution_count": 3,
   "metadata": {},
   "outputs": [
    {
     "name": "stdout",
     "output_type": "stream",
     "text": [
      "Enter the value of diameter 5\n",
      "65.44984694978736\n"
     ]
    }
   ],
   "source": [
    "import math\n",
    "diameter=float(input(\"Enter the value of diameter \"))\n",
    "r=diameter/2\n",
    "volume=((4/3)*(math.pi)*(r**3))\n",
    "print(volume)"
   ]
  },
  {
   "cell_type": "code",
   "execution_count": null,
   "metadata": {},
   "outputs": [],
   "source": []
  }
 ],
 "metadata": {
  "kernelspec": {
   "display_name": "Python 3",
   "language": "python",
   "name": "python3"
  },
  "language_info": {
   "codemirror_mode": {
    "name": "ipython",
    "version": 3
   },
   "file_extension": ".py",
   "mimetype": "text/x-python",
   "name": "python",
   "nbconvert_exporter": "python",
   "pygments_lexer": "ipython3",
   "version": "3.7.4"
  }
 },
 "nbformat": 4,
 "nbformat_minor": 2
}
